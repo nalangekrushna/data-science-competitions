{
 "cells": [
  {
   "cell_type": "code",
   "execution_count": 1,
   "metadata": {
    "_uuid": "c8d8521d9c3f8a374c4ac5abdc90c77fe119e230"
   },
   "outputs": [],
   "source": [
    "from IPython.core.interactiveshell import InteractiveShell\n",
    "InteractiveShell.ast_node_interactivity = \"all\"\n",
    "import numpy as np\n",
    "import pandas as pd\n",
    "from sklearn.preprocessing import LabelEncoder\n",
    "from sklearn.model_selection import train_test_split\n",
    "from sklearn.metrics import mean_squared_error\n",
    "import warnings\n",
    "warnings.filterwarnings('ignore')\n",
    "df = pd.read_csv('./df.csv')\n",
    "df.drop(axis=1,columns=['fullVisitorId'],inplace=True)\n",
    "df['transactionRevenue'] =  pd.to_numeric(df['transactionRevenue'])\n",
    "y = df['transactionRevenue']\n",
    "y = y.to_frame(name='transactionRevenue')\n",
    "df.drop(axis=1,columns=['transactionRevenue','date'],inplace=True)\n",
    "le = LabelEncoder()\n",
    "for i in range(df.shape[1]) :\n",
    "    if(df[df.columns[i]].dtypes == 'O') :\n",
    "        le.fit(df[df.columns[i]]);\n",
    "        df[df.columns[i]] = le.transform(df[df.columns[i]]) \n",
    "x = df\n",
    "x_train, x_test, y_train, y_test = train_test_split(x, y, test_size=0.3, random_state=123,shuffle=False)"
   ]
  },
  {
   "cell_type": "code",
   "execution_count": null,
   "metadata": {
    "_uuid": "c26d6e4442da0359417c60dd5b86777fac8047fa"
   },
   "outputs": [],
   "source": [
    "# normalization "
   ]
  },
  {
   "cell_type": "code",
   "execution_count": null,
   "metadata": {
    "_uuid": "0b503651a23e6908ae0c0fdcffa07a6d62b5a30d"
   },
   "outputs": [],
   "source": [
    "# feature selection"
   ]
  },
  {
   "cell_type": "code",
   "execution_count": null,
   "metadata": {
    "_uuid": "f0ba72b5ad14632ccf1177035f7780883823bc7b"
   },
   "outputs": [],
   "source": [
    "# imbalance handling"
   ]
  },
  {
   "cell_type": "code",
   "execution_count": null,
   "metadata": {
    "_uuid": "0a2702a9e2eb4fb55a6be82863dec0e50f975b14"
   },
   "outputs": [],
   "source": [
    "from sklearn.tree import DecisionTreeRegressor\n",
    "regr_2 = DecisionTreeRegressor(max_depth=5)\n",
    "regr_2.fit(x_train, y_train)\n",
    "y_pred = regr_2.predict(x_test)"
   ]
  },
  {
   "cell_type": "code",
   "execution_count": null,
   "metadata": {
    "_uuid": "31ee9818034e93c54f782d466a9649db2f9a293d"
   },
   "outputs": [],
   "source": [
    "y_add = y_test + 1\n",
    "y_log = np.log(y_add)\n",
    "y_pred_log = np.log(y_pred)\n",
    "np.sqrt(mean_squared_error(y_log, y_pred_log))"
   ]
  },
  {
   "cell_type": "code",
   "execution_count": null,
   "metadata": {
    "_uuid": "1984097cf9a3b8ec665f033b6b5a785fb02aef9a"
   },
   "outputs": [],
   "source": [
    "y_pred\n",
    "y_pred_log"
   ]
  },
  {
   "cell_type": "code",
   "execution_count": null,
   "metadata": {
    "_uuid": "89cab12855611baec77973c1db3d16c43a0d9cfe"
   },
   "outputs": [],
   "source": [
    "import json\n",
    "def load_df(csv_path='./original/test.csv', nrows=None):\n",
    "    JSON_COLUMNS = ['device', 'geoNetwork', 'totals', 'trafficSource']\n",
    "    df = pd.read_csv(csv_path, dtype={'fullVisitorId': 'str'}, nrows=nrows)\n",
    "    for column in JSON_COLUMNS:\n",
    "        df = df.join(pd.DataFrame(df.pop(column).apply(pd.io.json.loads).values.tolist(), index=df.index))\n",
    "    return df\n",
    "\n",
    "df = load_df()\n",
    "df.drop(columns='adwordsClickInfo',axis=1,inplace=True)\n",
    "keep_columns = df.columns[df.nunique()>1]\n",
    "df = df.loc[:,keep_columns].copy()\n",
    "def add_time_features(df):\n",
    "    df['date'] = pd.to_datetime(df['date'], format='%Y%m%d', errors='ignore')\n",
    "    df['year'] = df['date'].apply(lambda x: x.year)\n",
    "    df['month'] = df['date'].apply(lambda x: x.month)\n",
    "    df['day'] = df['date'].apply(lambda x: x.day)\n",
    "    df['weekday'] = df['date'].apply(lambda x: x.weekday())\n",
    "    return df\n",
    "df = add_time_features(df)\n",
    "df['pageviews'] = df['pageviews'].convert_objects(convert_numeric=True)\n",
    "df.drop(columns=['visitStartTime'],inplace=True)\n",
    "df.drop(columns=['sessionId','visitId'],inplace=True)\n",
    "df.drop(columns=['isMobile','deviceCategory','networkDomain','pageviews','medium','campaign','referralPath','keyword'\n",
    "                   ,'adContent'],inplace=True)\n",
    "df.drop(columns=['city','continent','metro','region','subContinent'],inplace=True)\n",
    "df.drop_duplicates(subset='fullVisitorId',inplace=True)\n",
    "fullVisitorId = df['fullVisitorId']\n",
    "df.drop(axis=1,columns='fullVisitorId',inplace=True)\n",
    "df.drop(axis=1,columns=['date'],inplace=True)\n",
    "from sklearn.preprocessing import LabelEncoder\n",
    "le = LabelEncoder()\n",
    "for i in range(df.shape[1]) :\n",
    "    if(df[df.columns[i]].dtypes == 'O') :\n",
    "        le.fit(df[df.columns[i]])\n",
    "        df[df.columns[i]] = le.transform(df[df.columns[i]]) \n",
    "ans = regr_2.predict(df)\n",
    "ans.shape"
   ]
  },
  {
   "cell_type": "code",
   "execution_count": null,
   "metadata": {
    "_uuid": "1d0ee9fbc6eddbc1a8d912df4ecf576bfcfacb28"
   },
   "outputs": [],
   "source": [
    "ans_df = pd.DataFrame(data=fullVisitorId)\n",
    "ans_df.columns = ['fullVisitorId']\n",
    "temp = pd.DataFrame()\n",
    "ans_df['PredictedLogRevenue'] = ans\n",
    "ans_df['PredictedLogRevenue']=ans_df['PredictedLogRevenue'].apply(lambda x: 0 if x == 0 else np.log(x))\n",
    "ans_df.to_csv('./ans.csv',index=False)"
   ]
  },
  {
   "cell_type": "code",
   "execution_count": null,
   "metadata": {
    "_uuid": "47078a7c6a526d5c973c69adf5722a0d0c3562ed",
    "scrolled": true
   },
   "outputs": [],
   "source": [
    "ans_df['fullVisitorId'].describe()"
   ]
  },
  {
   "cell_type": "code",
   "execution_count": null,
   "metadata": {
    "_uuid": "63f2d5b51a4caafd9f49771221c724168fb73b66",
    "scrolled": true
   },
   "outputs": [],
   "source": [
    "ans_df['PredictedLogRevenue'].describe()"
   ]
  },
  {
   "cell_type": "code",
   "execution_count": null,
   "metadata": {
    "_uuid": "c9a0a6b8c19a2fc4f284c6bba223cecd21efec4d"
   },
   "outputs": [],
   "source": []
  }
 ],
 "metadata": {
  "kernelspec": {
   "display_name": "Python 3",
   "language": "python",
   "name": "python3"
  },
  "language_info": {
   "codemirror_mode": {
    "name": "ipython",
    "version": 3
   },
   "file_extension": ".py",
   "mimetype": "text/x-python",
   "name": "python",
   "nbconvert_exporter": "python",
   "pygments_lexer": "ipython3",
   "version": "3.6.6"
  }
 },
 "nbformat": 4,
 "nbformat_minor": 1
}
