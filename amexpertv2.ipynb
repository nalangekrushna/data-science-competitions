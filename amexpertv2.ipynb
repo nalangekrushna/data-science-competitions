{
 "cells": [
  {
   "cell_type": "code",
   "execution_count": 14,
   "metadata": {},
   "outputs": [],
   "source": [
    "from IPython.core.interactiveshell import InteractiveShell\n",
    "InteractiveShell.ast_node_interactivity = \"all\"\n",
    "import numpy as np\n",
    "import pandas as pd\n",
    "import warnings\n",
    "warnings.filterwarnings('ignore')\n",
    "train = pd.read_csv('./modified/train_v1.csv')\n",
    "#train.columns"
   ]
  },
  {
   "cell_type": "code",
   "execution_count": 18,
   "metadata": {},
   "outputs": [
    {
     "data": {
      "text/plain": [
       "user_id                     int64\n",
       "product                    object\n",
       "campaign_id                object\n",
       "webpage_id                 object\n",
       "product_category_1          int64\n",
       "user_group_id             float64\n",
       "gender                     object\n",
       "age_level                 float64\n",
       "user_depth                float64\n",
       "city_development_index    float64\n",
       "var_1                       int64\n",
       "is_click                    int64\n",
       "day                         int64\n",
       "dtype: object"
      ]
     },
     "execution_count": 18,
     "metadata": {},
     "output_type": "execute_result"
    },
    {
     "data": {
      "text/plain": [
       "463291"
      ]
     },
     "execution_count": 18,
     "metadata": {},
     "output_type": "execute_result"
    },
    {
     "data": {
      "text/plain": [
       "445048"
      ]
     },
     "execution_count": 18,
     "metadata": {},
     "output_type": "execute_result"
    },
    {
     "data": {
      "text/plain": [
       "463291"
      ]
     },
     "execution_count": 18,
     "metadata": {},
     "output_type": "execute_result"
    }
   ],
   "source": [
    "# benchmark\n",
    "#train.describe()\n",
    "train.dtypes\n",
    "train['product'].count()\n",
    "train['gender'].count()\n",
    "train['day'].count()"
   ]
  },
  {
   "cell_type": "code",
   "execution_count": 3,
   "metadata": {},
   "outputs": [],
   "source": [
    "# first we put same type of values in all empty columns and then get its AUC value.\n",
    "# mean,median,mode,unique different. we will decide letter which one to use.\n",
    "train.fillna(value=train.user_group_id.mean(),inplace=True)\n",
    "train.fillna(value=train.age_level.mean(),inplace=True)\n",
    "train.fillna(value=train.user_depth.mean(),inplace=True)\n",
    "train.fillna(value=train.city_development_index.mean(),inplace=True)\n"
   ]
  },
  {
   "cell_type": "code",
   "execution_count": 4,
   "metadata": {},
   "outputs": [],
   "source": [
    "# train.user_group_id.median()\n",
    "# train.user_group_id.mode()\n",
    "# train.age_level.median()\n",
    "# train.age_level.mode()\n",
    "# train.user_depth.median()\n",
    "# train.user_depth.mode()\n",
    "# train.city_development_index.median()\n",
    "# train.city_development_index.mode()"
   ]
  },
  {
   "cell_type": "code",
   "execution_count": 5,
   "metadata": {
    "scrolled": true
   },
   "outputs": [],
   "source": [
    "for i in range(train.shape[1]) :\n",
    "    if train[train.columns[i]].dtypes == 'O' :\n",
    "        train[train.columns[i]] = train[train.columns[i]].astype('category')\n",
    "        train[train.columns[i]] = train[train.columns[i]].cat.codes\n",
    "#train.head()"
   ]
  },
  {
   "cell_type": "code",
   "execution_count": 20,
   "metadata": {
    "scrolled": true
   },
   "outputs": [
    {
     "data": {
      "text/plain": [
       "445048"
      ]
     },
     "execution_count": 20,
     "metadata": {},
     "output_type": "execute_result"
    },
    {
     "data": {
      "text/plain": [
       "Male      393454\n",
       "Female     51594\n",
       "Name: gender, dtype: int64"
      ]
     },
     "execution_count": 20,
     "metadata": {},
     "output_type": "execute_result"
    }
   ],
   "source": [
    "train['gender'].count()\n",
    "train.gender.value_counts()"
   ]
  },
  {
   "cell_type": "code",
   "execution_count": null,
   "metadata": {},
   "outputs": [],
   "source": []
  },
  {
   "cell_type": "code",
   "execution_count": 6,
   "metadata": {},
   "outputs": [],
   "source": [
    "y_pred = train['is_click']\n",
    "train.drop(labels=['user_id','is_click'],axis=1,inplace=True)"
   ]
  },
  {
   "cell_type": "code",
   "execution_count": 7,
   "metadata": {},
   "outputs": [],
   "source": [
    "from sklearn.model_selection import train_test_split\n",
    "x_train, x_test, y_train, y_test = train_test_split(train, y_pred, test_size=0.3, shuffle=False,random_state=123)"
   ]
  },
  {
   "cell_type": "code",
   "execution_count": 8,
   "metadata": {},
   "outputs": [
    {
     "data": {
      "text/plain": [
       "DecisionTreeClassifier(class_weight=None, criterion='gini', max_depth=None,\n",
       "            max_features=None, max_leaf_nodes=None,\n",
       "            min_impurity_decrease=0.0, min_impurity_split=None,\n",
       "            min_samples_leaf=1, min_samples_split=2,\n",
       "            min_weight_fraction_leaf=0.0, presort=False, random_state=None,\n",
       "            splitter='best')"
      ]
     },
     "execution_count": 8,
     "metadata": {},
     "output_type": "execute_result"
    },
    {
     "data": {
      "text/plain": [
       "0.9267418769965753"
      ]
     },
     "execution_count": 8,
     "metadata": {},
     "output_type": "execute_result"
    }
   ],
   "source": [
    "from sklearn.tree import DecisionTreeClassifier  \n",
    "clf = DecisionTreeClassifier()\n",
    "clf.fit(x_train, y_train);\n",
    "clf.score(x_test, y_test) "
   ]
  },
  {
   "cell_type": "code",
   "execution_count": 9,
   "metadata": {},
   "outputs": [],
   "source": [
    "y_scores = clf.predict(x_test)\n",
    "y_true = y_test"
   ]
  },
  {
   "cell_type": "code",
   "execution_count": 10,
   "metadata": {},
   "outputs": [
    {
     "data": {
      "text/plain": [
       "0.5005982224042825"
      ]
     },
     "execution_count": 10,
     "metadata": {},
     "output_type": "execute_result"
    }
   ],
   "source": [
    "from sklearn.metrics import roc_auc_score\n",
    "roc_auc_score(y_true, y_scores)"
   ]
  },
  {
   "cell_type": "code",
   "execution_count": 11,
   "metadata": {},
   "outputs": [],
   "source": [
    "# submission\n",
    "# df = pd.read_csv('./original/test.csv')\n",
    "# def add_time_features(df):\n",
    "#     df['date'] = pd.to_datetime(df['DateTime'], infer_datetime_format=True, errors='ignore')\n",
    "#     df['year'] = df['date'].apply(lambda x: x.year)\n",
    "#     df['month'] = df['date'].apply(lambda x: x.month)\n",
    "#     df['day'] = df['date'].apply(lambda x: x.day)\n",
    "#     df['weekday'] = df['date'].apply(lambda x: x.weekday())\n",
    "#     return df\n",
    "# df = add_time_features(df)\n",
    "# df.drop(labels=['DateTime','year','month','date','weekday','session_id','product_category_2','user_id'], axis=1,inplace=True)\n",
    "# df['campaign_id'] = df['campaign_id'].map({359520:'a',405490:'b',360936:'c',118601:'d',98970:'e',414149:'f',404347:'g',82320:'h',105960:'i',396664:'k'})\n",
    "# df['webpage_id'] = df['webpage_id'].map({13787:'a',60305:'b',28529:'c',6970:'d',45962:'e',53587:'f',1734:'g',11085:'h',51181:'i'})"
   ]
  },
  {
   "cell_type": "code",
   "execution_count": 12,
   "metadata": {},
   "outputs": [],
   "source": [
    "# here is no mistake we are putting mean values of training set into testing set.\n",
    "# df.fillna(value=train.user_group_id.mean(),inplace=True)\n",
    "# df.fillna(value=train.age_level.mean(),inplace=True)\n",
    "# df.fillna(value=train.user_depth.mean(),inplace=True)\n",
    "# df.fillna(value=train.city_development_index.mean(),inplace=True)\n",
    "# for i in range(df.shape[1]) :\n",
    "#     if df[df.columns[i]].dtypes == 'O' :\n",
    "#         df[df.columns[i]] = df[df.columns[i]].astype('category')\n",
    "#         df[df.columns[i]] = df[df.columns[i]].cat.codes\n",
    "# solution = pd.read_csv('./original/sample.csv')\n",
    "# solution['is_click'] = clf.predict(df)\n",
    "# solution.to_csv('solution.csv', index=False)"
   ]
  },
  {
   "cell_type": "code",
   "execution_count": null,
   "metadata": {},
   "outputs": [],
   "source": []
  }
 ],
 "metadata": {
  "kernelspec": {
   "display_name": "Python 3",
   "language": "python",
   "name": "python3"
  },
  "language_info": {
   "codemirror_mode": {
    "name": "ipython",
    "version": 3
   },
   "file_extension": ".py",
   "mimetype": "text/x-python",
   "name": "python",
   "nbconvert_exporter": "python",
   "pygments_lexer": "ipython3",
   "version": "3.6.6"
  }
 },
 "nbformat": 4,
 "nbformat_minor": 2
}
